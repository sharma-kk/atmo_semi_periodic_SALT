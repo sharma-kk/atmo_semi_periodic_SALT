{
 "cells": [
  {
   "cell_type": "code",
   "execution_count": 1,
   "metadata": {},
   "outputs": [],
   "source": [
    "import numpy as np\n",
    "import matplotlib.pyplot as plt"
   ]
  },
  {
   "cell_type": "code",
   "execution_count": 2,
   "metadata": {},
   "outputs": [],
   "source": [
    "data1 = np.load('../xi_calculation_visualization/data_for_xi_calculation/dX_data_t=27_to_t=30_grid_64_c=1by64_decor_t_16min.npz')\n",
    "data2 = np.load('../xi_calculation_visualization/data_for_xi_calculation/dX_data_t=30_to_t=33_grid_64_c=1by64_decor_t_16min.npz')\n",
    "data3 = np.load('../xi_calculation_visualization/data_for_xi_calculation/dX_data_t=33_to_t=36_grid_64_c=1by64_decor_t_16min.npz')\n",
    "data4 = np.load('../xi_calculation_visualization/data_for_xi_calculation/dX_data_t=36_to_t=39_grid_64_c=1by64_decor_t_16min.npz')\n",
    "data5 = np.load('../xi_calculation_visualization/data_for_xi_calculation/dX_data_t=39_to_t=42_grid_64_c=1by64_decor_t_16min.npz')\n",
    "data6 = np.load('../xi_calculation_visualization/data_for_xi_calculation/dX_data_t=42_to_t=45_grid_64_c=1by64_decor_t_16min.npz')"
   ]
  },
  {
   "cell_type": "code",
   "execution_count": 3,
   "metadata": {},
   "outputs": [
    {
     "data": {
      "text/plain": [
       "['dX_x', 'dX_y']"
      ]
     },
     "execution_count": 3,
     "metadata": {},
     "output_type": "execute_result"
    }
   ],
   "source": [
    "data1.files"
   ]
  },
  {
   "cell_type": "code",
   "execution_count": 4,
   "metadata": {},
   "outputs": [],
   "source": [
    "dX1 = np.concatenate((data1['dX_x'], data2['dX_x'], data3['dX_x'], data4['dX_x'], data5['dX_x'], data6['dX_x']), axis=0)\n",
    "dX2 = np.concatenate((data1['dX_y'], data2['dX_y'], data3['dX_y'], data4['dX_y'], data5['dX_y'], data6['dX_y']), axis=0)"
   ]
  },
  {
   "cell_type": "code",
   "execution_count": 5,
   "metadata": {},
   "outputs": [
    {
     "data": {
      "text/plain": [
       "((901, 29120), (901, 29120))"
      ]
     },
     "execution_count": 5,
     "metadata": {},
     "output_type": "execute_result"
    }
   ],
   "source": [
    "dX1.shape, dX2.shape"
   ]
  },
  {
   "cell_type": "code",
   "execution_count": 6,
   "metadata": {},
   "outputs": [
    {
     "data": {
      "text/plain": [
       "(901, 58240)"
      ]
     },
     "execution_count": 6,
     "metadata": {},
     "output_type": "execute_result"
    }
   ],
   "source": [
    "dX = np.concatenate((dX1, dX2), axis=1)\n",
    "dX.shape"
   ]
  },
  {
   "cell_type": "code",
   "execution_count": 7,
   "metadata": {},
   "outputs": [
    {
     "name": "stdout",
     "output_type": "stream",
     "text": [
      "901\n"
     ]
    }
   ],
   "source": [
    "m = dX.shape[0]\n",
    "print(m)"
   ]
  },
  {
   "cell_type": "code",
   "execution_count": 8,
   "metadata": {},
   "outputs": [],
   "source": [
    "from numpy import linalg as LA\n",
    "from scipy import signal"
   ]
  },
  {
   "cell_type": "code",
   "execution_count": 9,
   "metadata": {},
   "outputs": [],
   "source": [
    "Dt_c = 0.02\n",
    "scaled_dX = dX/np.sqrt(Dt_c)"
   ]
  },
  {
   "cell_type": "code",
   "execution_count": 10,
   "metadata": {},
   "outputs": [
    {
     "data": {
      "text/plain": [
       "[<matplotlib.lines.Line2D at 0x71b6017a9000>]"
      ]
     },
     "execution_count": 10,
     "metadata": {},
     "output_type": "execute_result"
    },
    {
     "data": {
      "image/png": "[encoded data removed]",
      "text/plain": [
       "<Figure size 432x288 with 1 Axes>"
      ]
     },
     "metadata": {
      "needs_background": "light"
     },
     "output_type": "display_data"
    }
   ],
   "source": [
    "xi_0 = np.mean(scaled_dX, axis=0)\n",
    "plt.plot(xi_0)"
   ]
  },
  {
   "cell_type": "code",
   "execution_count": 11,
   "metadata": {},
   "outputs": [
    {
     "data": {
      "text/plain": [
       "(1, 58240)"
      ]
     },
     "execution_count": 11,
     "metadata": {},
     "output_type": "execute_result"
    }
   ],
   "source": [
    "xi_0 = np.reshape(xi_0, (1, -1))\n",
    "xi_0.shape"
   ]
  },
  {
   "cell_type": "code",
   "execution_count": 12,
   "metadata": {},
   "outputs": [
    {
     "data": {
      "text/plain": [
       "(901, 58240)"
      ]
     },
     "execution_count": 12,
     "metadata": {},
     "output_type": "execute_result"
    }
   ],
   "source": [
    "F = signal.detrend(scaled_dX, axis=0, type='constant')\n",
    "F.shape"
   ]
  },
  {
   "cell_type": "code",
   "execution_count": 13,
   "metadata": {},
   "outputs": [],
   "source": [
    "A, b, CT = LA.svd(F, full_matrices=False)"
   ]
  },
  {
   "cell_type": "code",
   "execution_count": 14,
   "metadata": {},
   "outputs": [
    {
     "name": "stdout",
     "output_type": "stream",
     "text": [
      "[1.25599079e+00 1.18680378e+00 1.09041287e+00 1.03660332e+00\n",
      " 9.92189440e-01 9.13730363e-01 8.98292670e-01 8.53295134e-01\n",
      " 7.90261689e-01 7.85021222e-01 7.35507690e-01 7.21488522e-01\n",
      " 7.14371137e-01 6.97647555e-01 6.79580556e-01 6.72959444e-01\n",
      " 6.51610343e-01 6.39943755e-01 6.11336416e-01 6.00517558e-01\n",
      " 5.98944125e-01 5.76304191e-01 5.58282381e-01 5.50140671e-01\n",
      " 5.41532334e-01 5.38299046e-01 5.34986800e-01 5.23372179e-01\n",
      " 5.15358329e-01 5.02425566e-01 4.96440573e-01 4.87445561e-01\n",
      " 4.67792533e-01 4.61015857e-01 4.59577356e-01 4.51178919e-01\n",
      " 4.48090471e-01 4.41873490e-01 4.34713032e-01 4.27920867e-01\n",
      " 4.27448775e-01 4.20479105e-01 4.03378128e-01 4.00614664e-01\n",
      " 3.98130177e-01 3.86998354e-01 3.79337174e-01 3.74612516e-01\n",
      " 3.68868769e-01 3.66396227e-01 3.62650584e-01 3.60045791e-01\n",
      " 3.58162996e-01 3.52764735e-01 3.50073158e-01 3.46173361e-01\n",
      " 3.36144643e-01 3.30203966e-01 3.24392992e-01 3.22621359e-01\n",
      " 3.20956807e-01 3.15745306e-01 3.14136395e-01 3.11589784e-01\n",
      " 3.08340939e-01 3.02922700e-01 3.00786788e-01 2.98897042e-01\n",
      " 2.92629599e-01 2.92326372e-01 2.88883528e-01 2.81602206e-01\n",
      " 2.80465917e-01 2.78554586e-01 2.76157776e-01 2.72868812e-01\n",
      " 2.71081530e-01 2.69098019e-01 2.61500064e-01 2.60236433e-01\n",
      " 2.58622508e-01 2.55889234e-01 2.54106100e-01 2.49583610e-01\n",
      " 2.45111691e-01 2.43059876e-01 2.41634154e-01 2.39718136e-01\n",
      " 2.37739623e-01 2.36001970e-01 2.33333706e-01 2.30080705e-01\n",
      " 2.28461191e-01 2.25942152e-01 2.23887551e-01 2.21725189e-01\n",
      " 2.20914085e-01 2.17478511e-01 2.10430137e-01 2.09998663e-01\n",
      " 2.07210244e-01 2.05251271e-01 2.03527868e-01 2.02349348e-01\n",
      " 2.01329911e-01 1.98591792e-01 1.95192629e-01 1.92590769e-01\n",
      " 1.89289647e-01 1.83893781e-01 1.82496878e-01 1.82352408e-01\n",
      " 1.80746328e-01 1.79325972e-01 1.78388725e-01 1.76629321e-01\n",
      " 1.75672891e-01 1.73525299e-01 1.70811450e-01 1.69866269e-01\n",
      " 1.67339109e-01 1.66187133e-01 1.64083407e-01 1.62491356e-01\n",
      " 1.60798568e-01 1.59090178e-01 1.57382363e-01 1.57165682e-01\n",
      " 1.56045875e-01 1.54675623e-01 1.53430778e-01 1.52367444e-01\n",
      " 1.52124365e-01 1.50254313e-01 1.48471567e-01 1.47072311e-01\n",
      " 1.46336120e-01 1.43197909e-01 1.41255599e-01 1.40454223e-01\n",
      " 1.39390860e-01 1.38945774e-01 1.38323000e-01 1.36093953e-01\n",
      " 1.34957254e-01 1.34576780e-01 1.32227708e-01 1.31369235e-01\n",
      " 1.30288411e-01 1.28716252e-01 1.28249780e-01 1.26189123e-01\n",
      " 1.24258069e-01 1.22896119e-01 1.22166554e-01 1.22091247e-01\n",
      " 1.21200589e-01 1.19892720e-01 1.18384082e-01 1.17324317e-01\n",
      " 1.16546807e-01 1.16051712e-01 1.15637888e-01 1.13548239e-01\n",
      " 1.12463979e-01 1.11491030e-01 1.11145338e-01 1.10223043e-01\n",
      " 1.09419532e-01 1.09071039e-01 1.08072134e-01 1.06075207e-01\n",
      " 1.04806239e-01 1.04758487e-01 1.03180675e-01 1.01866394e-01\n",
      " 1.01568152e-01 1.01521955e-01 1.00680792e-01 9.91197197e-02\n",
      " 9.90819908e-02 9.80349619e-02 9.69450692e-02 9.65619792e-02\n",
      " 9.56394926e-02 9.54545203e-02 9.37567996e-02 9.35742329e-02\n",
      " 9.27532093e-02 9.18605018e-02 9.14105980e-02 9.10426152e-02\n",
      " 8.97724239e-02 8.89556315e-02 8.83335242e-02 8.77817541e-02\n",
      " 8.71368587e-02 8.60267765e-02 8.56457738e-02 8.52680269e-02\n",
      " 8.37862113e-02 8.31611122e-02 8.24675878e-02 8.23045222e-02\n",
      " 8.16728083e-02 8.08922671e-02 7.94537701e-02 7.88565960e-02\n",
      " 7.84436988e-02 7.78563237e-02 7.76469149e-02 7.71125345e-02\n",
      " 7.65224493e-02 7.59956555e-02 7.55879991e-02 7.51359150e-02\n",
      " 7.49445783e-02 7.40615319e-02 7.35201129e-02 7.32948517e-02\n",
      " 7.22345499e-02 7.17972347e-02 7.11900890e-02 7.06448148e-02\n",
      " 7.03941139e-02 6.99547693e-02 6.94137714e-02 6.88793462e-02\n",
      " 6.82522286e-02 6.72523745e-02 6.69372542e-02 6.66825840e-02\n",
      " 6.63555582e-02 6.58038742e-02 6.56140381e-02 6.46357611e-02\n",
      " 6.44146828e-02 6.42227282e-02 6.36491955e-02 6.27145814e-02\n",
      " 6.22528678e-02 6.19261441e-02 6.17519165e-02 6.10652971e-02\n",
      " 6.04451923e-02 6.01878533e-02 6.00569394e-02 5.94585224e-02\n",
      " 5.93120661e-02 5.84391816e-02 5.83493162e-02 5.80112799e-02\n",
      " 5.75881326e-02 5.71866949e-02 5.69220424e-02 5.64354042e-02\n",
      " 5.60796626e-02 5.55445628e-02 5.49349687e-02 5.45470231e-02\n",
      " 5.43777387e-02 5.40776233e-02 5.39567570e-02 5.37575474e-02\n",
      " 5.32861547e-02 5.31713803e-02 5.23539440e-02 5.22052200e-02\n",
      " 5.21710618e-02 5.15148896e-02 5.11776073e-02 5.05786471e-02\n",
      " 5.03404812e-02 5.01608569e-02 4.96339709e-02 4.91014705e-02\n",
      " 4.85982191e-02 4.81189619e-02 4.80313973e-02 4.79318757e-02\n",
      " 4.78623408e-02 4.76980604e-02 4.71422422e-02 4.67386707e-02\n",
      " 4.64333595e-02 4.61998377e-02 4.55767143e-02 4.53358019e-02\n",
      " 4.49572095e-02 4.47450044e-02 4.45471999e-02 4.42407207e-02\n",
      " 4.38468794e-02 4.37217876e-02 4.35149713e-02 4.34645015e-02\n",
      " 4.32265022e-02 4.31315113e-02 4.27668692e-02 4.24177855e-02\n",
      " 4.22283924e-02 4.19765153e-02 4.18412761e-02 4.16769517e-02\n",
      " 4.13722522e-02 4.10788018e-02 4.09292678e-02 4.05972580e-02\n",
      " 3.99399573e-02 3.98687572e-02 3.97270156e-02 3.93552616e-02\n",
      " 3.91316038e-02 3.89347784e-02 3.86708385e-02 3.85504957e-02\n",
      " 3.83065365e-02 3.80265670e-02 3.78382262e-02 3.76955849e-02\n",
      " 3.75600367e-02 3.74064543e-02 3.68936925e-02 3.66194946e-02\n",
      " 3.64190271e-02 3.62054425e-02 3.59846582e-02 3.58160091e-02\n",
      " 3.56756592e-02 3.53020055e-02 3.52120384e-02 3.49191184e-02\n",
      " 3.46429433e-02 3.45797181e-02 3.44879016e-02 3.39134564e-02\n",
      " 3.36633988e-02 3.35437798e-02 3.32419861e-02 3.31225910e-02\n",
      " 3.29232440e-02 3.28863009e-02 3.26283792e-02 3.25815516e-02\n",
      " 3.24405231e-02 3.22342482e-02 3.19361930e-02 3.17938971e-02\n",
      " 3.14679974e-02 3.12747654e-02 3.10613720e-02 3.09040075e-02\n",
      " 3.06120009e-02 3.05283840e-02 3.03566146e-02 3.02807110e-02\n",
      " 3.01416806e-02 2.99371782e-02 2.98831653e-02 2.96730659e-02\n",
      " 2.94594498e-02 2.90874519e-02 2.90263741e-02 2.88892146e-02\n",
      " 2.87239337e-02 2.86404855e-02 2.85608342e-02 2.84662223e-02\n",
      " 2.82301226e-02 2.80588621e-02 2.78208153e-02 2.77124176e-02\n",
      " 2.76330324e-02 2.74418473e-02 2.73186042e-02 2.71256884e-02\n",
      " 2.69290074e-02 2.67330877e-02 2.64062376e-02 2.63678764e-02\n",
      " 2.62536799e-02 2.60674872e-02 2.60286051e-02 2.58405338e-02\n",
      " 2.56794628e-02 2.55769433e-02 2.54028614e-02 2.52625883e-02\n",
      " 2.50377323e-02 2.49797784e-02 2.47307821e-02 2.46340849e-02\n",
      " 2.46229155e-02 2.44652794e-02 2.42938316e-02 2.42390083e-02\n",
      " 2.39543366e-02 2.38266996e-02 2.37301844e-02 2.36505857e-02\n",
      " 2.34785949e-02 2.34142773e-02 2.32307521e-02 2.31003040e-02\n",
      " 2.30544567e-02 2.27702005e-02 2.26853271e-02 2.26331402e-02\n",
      " 2.25425583e-02 2.24990262e-02 2.24026868e-02 2.22970945e-02\n",
      " 2.21112639e-02 2.20237250e-02 2.18962625e-02 2.17621035e-02\n",
      " 2.17312317e-02 2.16405179e-02 2.14493244e-02 2.13799259e-02\n",
      " 2.12117720e-02 2.11204694e-02 2.10398554e-02 2.08986978e-02\n",
      " 2.08564474e-02 2.08147830e-02 2.07932835e-02 2.06819174e-02\n",
      " 2.05365142e-02 2.04679010e-02 2.02636124e-02 2.02392953e-02\n",
      " 2.01871316e-02 2.01620615e-02 2.01044762e-02 2.00167767e-02\n",
      " 1.99069204e-02 1.97953029e-02 1.97346313e-02 1.95960372e-02\n",
      " 1.94280384e-02 1.93902700e-02 1.92003980e-02 1.91122309e-02\n",
      " 1.90586871e-02 1.90485564e-02 1.89603074e-02 1.88221351e-02\n",
      " 1.86913395e-02 1.86669993e-02 1.84547132e-02 1.84140824e-02\n",
      " 1.83547389e-02 1.83386122e-02 1.82590382e-02 1.80413495e-02\n",
      " 1.80216603e-02 1.78937132e-02 1.78272754e-02 1.77061745e-02\n",
      " 1.76764212e-02 1.76159617e-02 1.75329781e-02 1.73954262e-02\n",
      " 1.72853410e-02 1.72302954e-02 1.70628834e-02 1.70383859e-02\n",
      " 1.69797001e-02 1.68272651e-02 1.67431978e-02 1.66531912e-02\n",
      " 1.65836702e-02 1.65226464e-02 1.64841982e-02 1.64123765e-02\n",
      " 1.63486983e-02 1.61864131e-02 1.60544730e-02 1.59560403e-02\n",
      " 1.59248036e-02 1.58334927e-02 1.57804621e-02 1.57399932e-02\n",
      " 1.56521219e-02 1.55975528e-02 1.55283947e-02 1.55098821e-02\n",
      " 1.54400010e-02 1.53431600e-02 1.52810609e-02 1.52643317e-02\n",
      " 1.51286341e-02 1.50710210e-02 1.49036432e-02 1.48128988e-02\n",
      " 1.47788941e-02 1.47184466e-02 1.46463887e-02 1.45062430e-02\n",
      " 1.44173816e-02 1.43505797e-02 1.42998433e-02 1.42069528e-02\n",
      " 1.41838137e-02 1.41671356e-02 1.41079479e-02 1.40507792e-02\n",
      " 1.39863898e-02 1.38750665e-02 1.38482454e-02 1.37443462e-02\n",
      " 1.37056218e-02 1.35263461e-02 1.34267494e-02 1.33978407e-02\n",
      " 1.33719530e-02 1.32408912e-02 1.32012437e-02 1.31338431e-02\n",
      " 1.31045498e-02 1.30064046e-02 1.29336494e-02 1.29073041e-02\n",
      " 1.27670303e-02 1.27345596e-02 1.27192749e-02 1.26370354e-02\n",
      " 1.25734188e-02 1.25170440e-02 1.24878503e-02 1.24164207e-02\n",
      " 1.23993061e-02 1.23693740e-02 1.22489026e-02 1.21725811e-02\n",
      " 1.20377329e-02 1.19619243e-02 1.19080386e-02 1.18328458e-02\n",
      " 1.17966492e-02 1.17621043e-02 1.17456148e-02 1.16364452e-02\n",
      " 1.16209303e-02 1.16009446e-02 1.15368904e-02 1.14479563e-02\n",
      " 1.14436523e-02 1.14161464e-02 1.14079700e-02 1.13619872e-02\n",
      " 1.13400211e-02 1.12703534e-02 1.12329399e-02 1.12026341e-02\n",
      " 1.11801600e-02 1.10921747e-02 1.10514558e-02 1.10229726e-02\n",
      " 1.09932006e-02 1.09567145e-02 1.09378628e-02 1.08871985e-02\n",
      " 1.08476931e-02 1.07833745e-02 1.07303534e-02 1.07003070e-02\n",
      " 1.06776678e-02 1.06220750e-02 1.05516104e-02 1.05049423e-02\n",
      " 1.04604711e-02 1.04085321e-02 1.03739780e-02 1.03256890e-02\n",
      " 1.03006374e-02 1.02478107e-02 1.02285029e-02 1.02145317e-02\n",
      " 1.01478925e-02 1.01212329e-02 1.01137458e-02 1.00569486e-02\n",
      " 1.00222453e-02 1.00026137e-02 9.97905402e-03 9.93007635e-03\n",
      " 9.89746596e-03 9.82431231e-03 9.81493986e-03 9.74409751e-03\n",
      " 9.70251742e-03 9.69598781e-03 9.67902380e-03 9.62280837e-03\n",
      " 9.59902652e-03 9.56725923e-03 9.54460890e-03 9.52428293e-03\n",
      " 9.48624102e-03 9.44906937e-03 9.44026616e-03 9.39050499e-03\n",
      " 9.33668266e-03 9.33028215e-03 9.30536572e-03 9.27471789e-03\n",
      " 9.25869281e-03 9.20817422e-03 9.16762601e-03 9.15505647e-03\n",
      " 9.13057364e-03 9.08160012e-03 9.06418848e-03 9.03393764e-03\n",
      " 9.01216567e-03 8.99439814e-03 8.97428627e-03 8.94149959e-03\n",
      " 8.91816562e-03 8.89008668e-03 8.86351627e-03 8.84427517e-03\n",
      " 8.82858454e-03 8.80688555e-03 8.79590252e-03 8.75490507e-03\n",
      " 8.73349711e-03 8.69171315e-03 8.66892596e-03 8.62671144e-03\n",
      " 8.61331706e-03 8.59428494e-03 8.58350973e-03 8.56093790e-03\n",
      " 8.52753123e-03 8.51244857e-03 8.45163471e-03 8.44556154e-03\n",
      " 8.43407998e-03 8.40024951e-03 8.37701891e-03 8.35904481e-03\n",
      " 8.33558053e-03 8.32546169e-03 8.30190826e-03 8.28393428e-03\n",
      " 8.26949083e-03 8.24656441e-03 8.20504207e-03 8.20303826e-03\n",
      " 8.18123841e-03 8.16317837e-03 8.13809745e-03 8.11325024e-03\n",
      " 8.10125371e-03 8.06344921e-03 8.05490104e-03 8.02838699e-03\n",
      " 8.01539919e-03 7.95956384e-03 7.94838656e-03 7.94020524e-03\n",
      " 7.89778654e-03 7.87748580e-03 7.86019652e-03 7.82663951e-03\n",
      " 7.80212549e-03 7.77377890e-03 7.75398035e-03 7.73033788e-03\n",
      " 7.71836451e-03 7.69614069e-03 7.65754223e-03 7.64338965e-03\n",
      " 7.60778132e-03 7.59457723e-03 7.58425261e-03 7.56093338e-03\n",
      " 7.54804660e-03 7.53325740e-03 7.51480207e-03 7.48430923e-03\n",
      " 7.45089091e-03 7.41796749e-03 7.40624613e-03 7.39513359e-03\n",
      " 7.38345970e-03 7.34033755e-03 7.32747057e-03 7.31083825e-03\n",
      " 7.30164807e-03 7.27464724e-03 7.25730380e-03 7.25301263e-03\n",
      " 7.23988144e-03 7.21764936e-03 7.21031820e-03 7.19509576e-03\n",
      " 7.16936704e-03 7.14811992e-03 7.12883823e-03 7.11123001e-03\n",
      " 7.08746144e-03 7.06392442e-03 7.04168039e-03 7.02960457e-03\n",
      " 7.01469827e-03 6.99796257e-03 6.96521954e-03 6.95209842e-03\n",
      " 6.93275726e-03 6.89171551e-03 6.86894403e-03 6.85875810e-03\n",
      " 6.83768118e-03 6.83533414e-03 6.81400328e-03 6.79153219e-03\n",
      " 6.77317962e-03 6.72129420e-03 6.71380952e-03 6.67930962e-03\n",
      " 6.67552341e-03 6.66595715e-03 6.64257465e-03 6.63499702e-03\n",
      " 6.61193609e-03 6.57950704e-03 6.56460776e-03 6.53696835e-03\n",
      " 6.50084099e-03 6.49524464e-03 6.47184028e-03 6.45472917e-03\n",
      " 6.42830402e-03 6.42065285e-03 6.39304011e-03 6.37615617e-03\n",
      " 6.36833282e-03 6.34349903e-03 6.32475251e-03 6.30889632e-03\n",
      " 6.28352555e-03 6.28323726e-03 6.23708063e-03 6.23108122e-03\n",
      " 6.21349809e-03 6.20767087e-03 6.18372195e-03 6.14828482e-03\n",
      " 6.12954351e-03 6.10818121e-03 6.10716719e-03 6.08891300e-03\n",
      " 6.07489578e-03 6.04653127e-03 6.03200713e-03 5.99735817e-03\n",
      " 5.97175350e-03 5.94775190e-03 5.92714455e-03 5.92112391e-03\n",
      " 5.90859974e-03 5.89464013e-03 5.88354272e-03 5.84735798e-03\n",
      " 5.83937068e-03 5.80153905e-03 5.78864348e-03 5.77416819e-03\n",
      " 5.75831352e-03 5.74976095e-03 5.73745791e-03 5.71713728e-03\n",
      " 5.70303360e-03 5.69227041e-03 5.67981366e-03 5.66244045e-03\n",
      " 5.64641228e-03 5.62394244e-03 5.60431914e-03 5.57772673e-03\n",
      " 5.57374722e-03 5.52690020e-03 5.51082166e-03 5.49449125e-03\n",
      " 5.47401591e-03 5.45314280e-03 5.44802888e-03 5.42501515e-03\n",
      " 5.39759778e-03 5.37716544e-03 5.35809855e-03 5.33314552e-03\n",
      " 5.32606253e-03 5.31773695e-03 5.29126500e-03 5.25944689e-03\n",
      " 5.25716337e-03 5.23316588e-03 5.22706137e-03 5.20616679e-03\n",
      " 5.18067618e-03 5.16520910e-03 5.15162252e-03 5.12656536e-03\n",
      " 5.11316300e-03 5.10130483e-03 5.07952131e-03 5.06027336e-03\n",
      " 5.04522416e-03 5.03145047e-03 5.01326531e-03 4.99155928e-03\n",
      " 4.96637440e-03 4.95855344e-03 4.94547030e-03 4.91462505e-03\n",
      " 4.89106439e-03 4.86311921e-03 4.84140960e-03 4.82485741e-03\n",
      " 4.80670198e-03 4.78872611e-03 4.75517820e-03 4.74528054e-03\n",
      " 4.68016440e-03 4.66585157e-03 4.64605379e-03 4.62708419e-03\n",
      " 4.61801323e-03 4.58979760e-03 4.55736470e-03 4.53614208e-03\n",
      " 4.49194114e-03 4.48300088e-03 4.47378912e-03 4.45728254e-03\n",
      " 4.44137786e-03 4.43113640e-03 4.41337493e-03 4.39850480e-03\n",
      " 4.37408145e-03 4.33877646e-03 4.32570981e-03 4.29997012e-03\n",
      " 4.26748262e-03 4.25527632e-03 4.22981320e-03 4.20324189e-03\n",
      " 4.17279309e-03 4.14096691e-03 4.13694423e-03 4.09054213e-03\n",
      " 4.07242132e-03 4.03985105e-03 3.99151488e-03 3.98814154e-03\n",
      " 3.95579747e-03 3.91141597e-03 3.88690989e-03 3.84596126e-03\n",
      " 3.83804214e-03 3.77119746e-03 3.74846604e-03 3.74177446e-03\n",
      " 3.72240705e-03 3.69457020e-03 3.64926914e-03 3.63379646e-03\n",
      " 3.60867500e-03 3.57664910e-03 3.53007652e-03 3.50023490e-03\n",
      " 3.47675564e-03 3.45968642e-03 3.39604985e-03 3.39082434e-03\n",
      " 3.35656041e-03 3.33056292e-03 3.27823049e-03 3.21701210e-03\n",
      " 3.19057688e-03 3.17744977e-03 3.13917177e-03 3.13450207e-03\n",
      " 3.09079875e-03 3.06276941e-03 3.02541817e-03 2.96436848e-03\n",
      " 2.95933644e-03 2.91541596e-03 2.85892103e-03 2.81832689e-03\n",
      " 2.73542015e-03 2.62773638e-03 2.27824680e-03 1.88030940e-03\n",
      " 1.79907096e-15]\n"
     ]
    }
   ],
   "source": [
    "print(b) # variances of the EOFs "
   ]
  },
  {
   "cell_type": "code",
   "execution_count": 15,
   "metadata": {},
   "outputs": [],
   "source": [
    "B = np.diag(b) # matrix containing variances"
   ]
  },
  {
   "cell_type": "code",
   "execution_count": 16,
   "metadata": {},
   "outputs": [
    {
     "data": {
      "text/plain": [
       "((901, 901), (901, 901), (901, 58240))"
      ]
     },
     "execution_count": 16,
     "metadata": {},
     "output_type": "execute_result"
    }
   ],
   "source": [
    "A.shape, B.shape, CT.shape"
   ]
  },
  {
   "cell_type": "code",
   "execution_count": 17,
   "metadata": {},
   "outputs": [
    {
     "data": {
      "text/plain": [
       "(901, 901)"
      ]
     },
     "execution_count": 17,
     "metadata": {},
     "output_type": "execute_result"
    }
   ],
   "source": [
    "t_mat = np.matmul(A,B) # matrix containig time-series info\n",
    "t_mat.shape"
   ]
  },
  {
   "cell_type": "code",
   "execution_count": 18,
   "metadata": {},
   "outputs": [],
   "source": [
    "xi_mat = CT # this matrix contain the EOFs"
   ]
  },
  {
   "cell_type": "markdown",
   "metadata": {},
   "source": [
    "94 EOFs contain 90 percent of the total variance. Therefore we only extract this info from SVD of F"
   ]
  },
  {
   "cell_type": "code",
   "execution_count": 19,
   "metadata": {},
   "outputs": [],
   "source": [
    "n_EOFs = 94"
   ]
  },
  {
   "cell_type": "code",
   "execution_count": 20,
   "metadata": {},
   "outputs": [
    {
     "data": {
      "text/plain": [
       "((901, 94), (94, 58240), (901, 58240))"
      ]
     },
     "execution_count": 20,
     "metadata": {},
     "output_type": "execute_result"
    }
   ],
   "source": [
    "D = np.matmul(t_mat[:,:n_EOFs], xi_mat[:n_EOFs,:]) # info corresponding to 51 EOFs\n",
    "t_mat[:,:n_EOFs].shape, xi_mat[:n_EOFs,:].shape, D.shape"
   ]
  },
  {
   "cell_type": "code",
   "execution_count": 21,
   "metadata": {},
   "outputs": [
    {
     "data": {
      "text/plain": [
       "(901, 58240)"
      ]
     },
     "execution_count": 21,
     "metadata": {},
     "output_type": "execute_result"
    }
   ],
   "source": [
    "E = xi_0 + D # this should be approximately equal to matrix scaled_dX\n",
    "# E = D #  not including the mean has very small effect on the final matrix\n",
    "E.shape"
   ]
  },
  {
   "cell_type": "code",
   "execution_count": 22,
   "metadata": {},
   "outputs": [
    {
     "data": {
      "text/plain": [
       "<matplotlib.legend.Legend at 0x71b6015de1a0>"
      ]
     },
     "execution_count": 22,
     "metadata": {},
     "output_type": "execute_result"
    },
    {
     "data": {
      "image/png": "[encoded data removed]",
      "text/plain": [
       "<Figure size 432x288 with 1 Axes>"
      ]
     },
     "metadata": {
      "needs_background": "light"
     },
     "output_type": "display_data"
    }
   ],
   "source": [
    "# rand_ele = int(np.random.uniform(0, 200))\n",
    "rand_ele = 0\n",
    "plt.plot(scaled_dX[rand_ele, :], label='a row of scaled_dX')\n",
    "plt.plot(E[rand_ele,:], label='recreated using SVD')\n",
    "plt.legend()"
   ]
  },
  {
   "cell_type": "code",
   "execution_count": 23,
   "metadata": {},
   "outputs": [
    {
     "data": {
      "text/plain": [
       "<matplotlib.legend.Legend at 0x71b60144f970>"
      ]
     },
     "execution_count": 23,
     "metadata": {},
     "output_type": "execute_result"
    },
    {
     "data": {
      "image/png": "[encoded data removed]",
      "text/plain": [
       "<Figure size 432x288 with 1 Axes>"
      ]
     },
     "metadata": {
      "needs_background": "light"
     },
     "output_type": "display_data"
    }
   ],
   "source": [
    "rand_ele = 200\n",
    "plt.plot(scaled_dX[rand_ele, :], label='a row of scaled_dX')\n",
    "plt.plot(E[rand_ele,:], label='recreated using SVD')\n",
    "plt.legend()"
   ]
  },
  {
   "cell_type": "code",
   "execution_count": 24,
   "metadata": {},
   "outputs": [
    {
     "data": {
      "text/plain": [
       "((901, 58240), (901, 29120, 2))"
      ]
     },
     "execution_count": 24,
     "metadata": {},
     "output_type": "execute_result"
    }
   ],
   "source": [
    "combined_vec = E\n",
    "detached_vec = np.zeros((combined_vec.shape[0],int(combined_vec.shape[1]/2),2))\n",
    "for i in range(combined_vec.shape[0]):\n",
    "    detached_vec[i,:,0] = combined_vec[i,:int(combined_vec.shape[1]/2)]\n",
    "    detached_vec[i,:,1] = combined_vec[i,int(combined_vec.shape[1]/2):]\n",
    "    \n",
    "combined_vec.shape, detached_vec.shape"
   ]
  },
  {
   "cell_type": "code",
   "execution_count": 25,
   "metadata": {},
   "outputs": [
    {
     "data": {
      "text/plain": [
       "(901, 29120, 2)"
      ]
     },
     "execution_count": 25,
     "metadata": {},
     "output_type": "execute_result"
    }
   ],
   "source": [
    "stoch_f_mat = detached_vec\n",
    "stoch_f_mat.shape"
   ]
  },
  {
   "cell_type": "code",
   "execution_count": 27,
   "metadata": {},
   "outputs": [
    {
     "data": {
      "text/plain": [
       "<matplotlib.legend.Legend at 0x71b6014dabc0>"
      ]
     },
     "execution_count": 27,
     "metadata": {},
     "output_type": "execute_result"
    },
    {
     "data": {
      "image/png": "[encoded data removed]",
      "text/plain": [
       "<Figure size 432x288 with 1 Axes>"
      ]
     },
     "metadata": {
      "needs_background": "light"
     },
     "output_type": "display_data"
    }
   ],
   "source": [
    "plt.plot(stoch_f_mat[0,:,0], label='stoch_fx_at_t0')\n",
    "plt.plot(stoch_f_mat[100,:,0], label='stoch_fx_at_t100')\n",
    "plt.legend()"
   ]
  },
  {
   "cell_type": "code",
   "execution_count": 28,
   "metadata": {},
   "outputs": [
    {
     "data": {
      "text/plain": [
       "<matplotlib.legend.Legend at 0x71b601760f10>"
      ]
     },
     "execution_count": 28,
     "metadata": {},
     "output_type": "execute_result"
    },
    {
     "data": {
      "image/png": "[encoded data removed]",
      "text/plain": [
       "<Figure size 432x288 with 1 Axes>"
      ]
     },
     "metadata": {
      "needs_background": "light"
     },
     "output_type": "display_data"
    }
   ],
   "source": [
    "plt.plot(stoch_f_mat[0,:,1], label='stoch_fy_at_t0')\n",
    "plt.plot(stoch_f_mat[100,:,1], label='stoch_fy_at_t100')\n",
    "plt.legend()"
   ]
  },
  {
   "cell_type": "code",
   "execution_count": 29,
   "metadata": {},
   "outputs": [],
   "source": [
    "data_file = './forcing/stochastic_forcing_as_deterministic_t27_to_t45_mesh64_var90.npz'\n",
    "\n",
    "np.savez(data_file, stoch_f_mat = stoch_f_mat)"
   ]
  }
 ],
 "metadata": {
  "kernelspec": {
   "display_name": "Python 3",
   "language": "python",
   "name": "python3"
  },
  "language_info": {
   "codemirror_mode": {
    "name": "ipython",
    "version": 3
   },
   "file_extension": ".py",
   "mimetype": "text/x-python",
   "name": "python",
   "nbconvert_exporter": "python",
   "pygments_lexer": "ipython3",
   "version": "3.10.12"
  }
 },
 "nbformat": 4,
 "nbformat_minor": 2
}
